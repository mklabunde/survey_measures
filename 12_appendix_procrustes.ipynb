{
 "cells": [
  {
   "cell_type": "code",
   "execution_count": null,
   "metadata": {},
   "outputs": [],
   "source": [
    "from collections import defaultdict\n",
    "\n",
    "import numpy as np\n",
    "import matplotlib.pyplot as plt\n",
    "import seaborn as sns\n",
    "import pandas as pd\n",
    "from scipy.linalg import orthogonal_procrustes\n",
    "from scipy.stats import ortho_group\n",
    "from tqdm import tqdm"
   ]
  },
  {
   "cell_type": "code",
   "execution_count": null,
   "metadata": {},
   "outputs": [],
   "source": [
    "rng = np.random.default_rng(1234)\n",
    "N = 1000\n",
    "D = 10\n",
    "n_repetitions = 10\n",
    "n_permutations = 10\n",
    "\n",
    "results = {\"D\": [], \"dist\": [], \"value\": [], \"noise\": []}\n",
    "\n",
    "for i in [1, 5, 10, 20, 30, 100, 200, 300]:\n",
    "# for i in [1, 5, 10, 20, 30]:\n",
    "    increased_D = i * D\n",
    "    for noise_level in [1e-2, 5e-2, 1e-1]:\n",
    "        for repetition in tqdm(range(n_repetitions)):\n",
    "            # One random matrix and one rotated version with added noise\n",
    "            Q = ortho_group.rvs(increased_D, size=1)\n",
    "            a = rng.standard_normal((N, increased_D))\n",
    "            b = a @ Q + noise_level * rng.standard_normal((N, increased_D))\n",
    "\n",
    "            r, scale = orthogonal_procrustes(a, b)\n",
    "            total_norm = (\n",
    "                -2 * scale\n",
    "                + np.linalg.norm(a, ord=\"fro\") ** 2\n",
    "                + np.linalg.norm(b, ord=\"fro\") ** 2\n",
    "            )\n",
    "            \n",
    "            results[\"D\"].append(increased_D)\n",
    "            results[\"dist\"].append(\"ortho_proc\")\n",
    "            results[\"value\"].append(np.sqrt(total_norm))\n",
    "            results[\"noise\"].append(noise_level)\n",
    "            \n",
    "            results[\"D\"].append(increased_D)\n",
    "            results[\"dist\"].append(\"squared_ortho_proc\")\n",
    "            results[\"value\"].append(total_norm)\n",
    "            results[\"noise\"].append(noise_level)\n",
    "            \n",
    "            # baseline value for unrelated matrices\n",
    "            for _ in range(n_permutations):\n",
    "                a_shuffled = rng.permutation(a, axis=0)\n",
    "                shuffled_norm = (\n",
    "                    -2 * orthogonal_procrustes(a_shuffled, b)[1]\n",
    "                    + np.linalg.norm(a_shuffled, ord=\"fro\") ** 2\n",
    "                    + np.linalg.norm(b, ord=\"fro\") ** 2\n",
    "                )\n",
    "                results[\"D\"].append(increased_D)\n",
    "                results[\"dist\"].append(\"shuffled\")\n",
    "                results[\"value\"].append(np.sqrt(shuffled_norm))\n",
    "                results[\"noise\"].append(noise_level)\n",
    "                \n",
    "                results[\"D\"].append(increased_D)\n",
    "                results[\"dist\"].append(\"squared_shuffled\")\n",
    "                results[\"value\"].append(shuffled_norm)\n",
    "                results[\"noise\"].append(noise_level)\n",
    "    \n",
    "df = pd.DataFrame.from_dict(results)\n"
   ]
  },
  {
   "cell_type": "code",
   "execution_count": null,
   "metadata": {},
   "outputs": [],
   "source": [
    "# df.to_parquet(\"procrustes_dim_increase.parquet\")"
   ]
  },
  {
   "cell_type": "code",
   "execution_count": null,
   "metadata": {},
   "outputs": [],
   "source": [
    "df = pd.read_parquet(\"procrustes_dim_increase.parquet\")\n",
    "df.head()"
   ]
  },
  {
   "attachments": {},
   "cell_type": "markdown",
   "metadata": {},
   "source": [
    "Procrustes distance and dimensionality are in a powerlaw relation (linear in the log-log plot).\n",
    "If you decrease N to something smaller like 100, the curve will flatten at that dimension.\n",
    "With larger N,"
   ]
  },
  {
   "cell_type": "code",
   "execution_count": null,
   "metadata": {},
   "outputs": [],
   "source": [
    "df[\"Representations\"] = df[\"dist\"]\n",
    "df[\"Noise SD\"] = df[\"noise\"]\n",
    "df.loc[df[\"Representations\"] == \"ortho_proc\", \"Representations\"] = \"Rotated + Noise\"\n",
    "df.loc[df[\"Representations\"] == \"shuffled\", \"Representations\"] = \"Shuffled Baseline\"\n"
   ]
  },
  {
   "cell_type": "code",
   "execution_count": null,
   "metadata": {},
   "outputs": [],
   "source": [
    "g = sns.relplot(\n",
    "    # data=df[~df[\"dist\"].isin([\"squared_shuffled\", \"squared_ortho_proc\", \"shuffled\"])],\n",
    "    data=df[~df[\"dist\"].isin([\"squared_shuffled\", \"squared_ortho_proc\"])],\n",
    "    # data=df,\n",
    "    x=\"D\",\n",
    "    y=\"value\",\n",
    "    hue=\"Representations\",\n",
    "    style=\"Noise SD\",\n",
    "    kind=\"line\",\n",
    "    markers=True,\n",
    "    height=4,\n",
    "    aspect=1.3,\n",
    "    errorbar=\"sd\",\n",
    ")\n",
    "g.set(yscale=\"log\")\n",
    "g.set(xscale=\"log\")\n",
    "g.set(ylabel=\"Orthogonal Procrustes Distance\")\n",
    "g.set(xlabel=\"Dimensionality D\")\n",
    "\n",
    "g.savefig(\"orthoproc_dim.pdf\")"
   ]
  },
  {
   "cell_type": "code",
   "execution_count": null,
   "metadata": {},
   "outputs": [],
   "source": []
  }
 ],
 "metadata": {
  "kernelspec": {
   "display_name": "idl22",
   "language": "python",
   "name": "python3"
  },
  "language_info": {
   "codemirror_mode": {
    "name": "ipython",
    "version": 3
   },
   "file_extension": ".py",
   "mimetype": "text/x-python",
   "name": "python",
   "nbconvert_exporter": "python",
   "pygments_lexer": "ipython3",
   "version": "3.10.8"
  },
  "orig_nbformat": 4
 },
 "nbformat": 4,
 "nbformat_minor": 2
}
